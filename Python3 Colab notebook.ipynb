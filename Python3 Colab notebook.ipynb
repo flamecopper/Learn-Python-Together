{
  "nbformat": 4,
  "nbformat_minor": 0,
  "metadata": {
    "colab": {
      "name": "Untitled1.ipynb",
      "version": "0.3.2",
      "provenance": [],
      "include_colab_link": true
    },
    "kernelspec": {
      "name": "python3",
      "display_name": "Python 3"
    }
  },
  "cells": [
    {
      "cell_type": "markdown",
      "metadata": {
        "id": "view-in-github",
        "colab_type": "text"
      },
      "source": [
        "[View in Colaboratory](https://colab.research.google.com/github/flamecopper/Learn-Python-Together/blob/master/Python3%20Colab%20notebook.ipynb)"
      ]
    },
    {
      "metadata": {
        "id": "CUH65rwbdWll",
        "colab_type": "code",
        "colab": {}
      },
      "cell_type": "code",
      "source": [
        "#import Libraries\n",
        "import datetime\n",
        "import pandas as pd\n",
        "from pandas import read_csv\n",
        "\n",
        "print(\"Libraries imported sucessfully\")\n",
        "print(\"Good Morning!\")"
      ],
      "execution_count": 0,
      "outputs": []
    },
    {
      "metadata": {
        "id": "xTdpOuO8deIM",
        "colab_type": "code",
        "colab": {}
      },
      "cell_type": "code",
      "source": [
        "import tensorflow as tf"
      ],
      "execution_count": 0,
      "outputs": []
    },
    {
      "metadata": {
        "id": "NZOBGmZwdeLM",
        "colab_type": "code",
        "colab": {}
      },
      "cell_type": "code",
      "source": [
        "a_number = 2\n",
        "a_word = 'dog'\n",
        "a_number = 'cat' #overidding\n",
        "\n",
        "print(a_number) # Printing\n",
        "type(a_number) # Data Type"
      ],
      "execution_count": 0,
      "outputs": []
    },
    {
      "metadata": {
        "id": "SJfKpy7MdeN5",
        "colab_type": "code",
        "colab": {}
      },
      "cell_type": "code",
      "source": [
        "#line comments\n",
        "'''\n",
        "block comments\n",
        "'''"
      ],
      "execution_count": 0,
      "outputs": []
    },
    {
      "metadata": {
        "id": "qf_AQ_VadeRA",
        "colab_type": "code",
        "colab": {}
      },
      "cell_type": "code",
      "source": [
        "#mutable - order can be changed\n",
        "pets = ['dogs','cats','fish']\n",
        "pets1 =  ['dogs','cats','fish']\n",
        "pets2 = [pets,pets1]\n",
        "print(pets[0])\n",
        "print(pets[1])\n",
        "print(pets2)\n"
      ],
      "execution_count": 0,
      "outputs": []
    },
    {
      "metadata": {
        "id": "vodyG5oodeUL",
        "colab_type": "code",
        "colab": {}
      },
      "cell_type": "code",
      "source": [
        "#permanent assignment\n",
        "pets.append('hedgehog')\n",
        "pets"
      ],
      "execution_count": 0,
      "outputs": []
    },
    {
      "metadata": {
        "id": "d5O68XL6deW8",
        "colab_type": "code",
        "colab": {}
      },
      "cell_type": "code",
      "source": [
        "#permanent assignment\n",
        "pets.remove('hedgehog')\n",
        "pets"
      ],
      "execution_count": 0,
      "outputs": []
    },
    {
      "metadata": {
        "id": "7Fk_B7f6deZ7",
        "colab_type": "code",
        "colab": {}
      },
      "cell_type": "code",
      "source": [
        "pets.reverse()\n",
        "print(pets)\n",
        "\n",
        "pets.sort()\n",
        "print(pets)"
      ],
      "execution_count": 0,
      "outputs": []
    },
    {
      "metadata": {
        "id": "0ZVg4m40dedN",
        "colab_type": "code",
        "colab": {
          "base_uri": "https://localhost:8080/",
          "height": 52
        },
        "outputId": "7d7c06ef-0d1d-4385-92cd-4c0438b8d493"
      },
      "cell_type": "code",
      "source": [
        "penny = (60, 75, 'yellow')\n",
        "print(type(penny))\n",
        "penny"
      ],
      "execution_count": 3,
      "outputs": [
        {
          "output_type": "stream",
          "text": [
            "<class 'tuple'>\n"
          ],
          "name": "stdout"
        },
        {
          "output_type": "execute_result",
          "data": {
            "text/plain": [
              "(60, 75, 'yellow')"
            ]
          },
          "metadata": {
            "tags": []
          },
          "execution_count": 3
        }
      ]
    },
    {
      "metadata": {
        "id": "v7foybSXdrme",
        "colab_type": "code",
        "colab": {
          "base_uri": "https://localhost:8080/",
          "height": 52
        },
        "outputId": "ca508855-353c-4b9f-ebaa-08479bb5c95d"
      },
      "cell_type": "code",
      "source": [
        "store_one = {'bulldog','parrot','hamster','fish'}\n",
        "store_two = {'fish','parrot','terrier','cat'}\n",
        "print (store_one.intersection(store_two))\n",
        "print (store_one.union(store_two))"
      ],
      "execution_count": 2,
      "outputs": [
        {
          "output_type": "stream",
          "text": [
            "{'fish', 'parrot'}\n",
            "{'hamster', 'fish', 'bulldog', 'cat', 'terrier', 'parrot'}\n"
          ],
          "name": "stdout"
        }
      ]
    },
    {
      "metadata": {
        "id": "3Csx0MiFdrzz",
        "colab_type": "code",
        "colab": {}
      },
      "cell_type": "code",
      "source": [
        "#Flow control and condition\n",
        "milk = 0\n",
        "eggs = 0\n",
        "store_has_eggs = True\n",
        "#Purchase decisions\n",
        "milk +=1\n",
        "if store_has_eggs == True:\n",
        "    eggs += 12\n",
        "#Check what was purcahsed\n",
        "print(milk)\n",
        "print(eggs)"
      ],
      "execution_count": 0,
      "outputs": []
    },
    {
      "metadata": {
        "id": "i_sLsE8Fd6uL",
        "colab_type": "code",
        "colab": {
          "base_uri": "https://localhost:8080/",
          "height": 173
        },
        "outputId": "32d2a82e-c709-4722-dd9a-fc7544aaacbf"
      },
      "cell_type": "code",
      "source": [
        "#loop allow the repeat of the checking\n",
        "number = 43\n",
        "divisor = 5\n",
        "answer = 0\n",
        "\n",
        "#while loop\n",
        "while number > 0:\n",
        "    number = number - divisor\n",
        "    print (number)\n",
        "    #do something"
      ],
      "execution_count": 5,
      "outputs": [
        {
          "output_type": "stream",
          "text": [
            "38\n",
            "33\n",
            "28\n",
            "23\n",
            "18\n",
            "13\n",
            "8\n",
            "3\n",
            "-2\n"
          ],
          "name": "stdout"
        }
      ]
    }
  ]
}